{
 "cells": [
  {
   "attachments": {},
   "cell_type": "markdown",
   "metadata": {},
   "source": [
    "### 学习Andrew的ML入门课程的coding笔记 "
   ]
  },
  {
   "attachments": {},
   "cell_type": "markdown",
   "metadata": {},
   "source": [
    "下面简单模拟GD算法在单变量线性回归模型中的使用"
   ]
  },
  {
   "cell_type": "code",
   "execution_count": 32,
   "metadata": {},
   "outputs": [
    {
     "name": "stdout",
     "output_type": "stream",
     "text": [
      "Train time : 0  w : 1.3855555555555554  b : 0.09444444444444444 cost : 42.06364259259257\n",
      "Train time : 500  w : 0.5738162538213107  b : 2.8539946659114306 cost : 1.1895967435903545\n",
      "Train time : 1000  w : 0.5427093478045026  b : 3.374406163201198 cost : 1.1230991162831891\n",
      "Train time : 1500  w : 0.5369237990352771  b : 3.4711970846772484 cost : 1.1207988313592196\n",
      "Train time : 2000  w : 0.5358477494100591  b : 3.489199151366726 cost : 1.1207192599377158\n",
      "Train time : 2500  w : 0.5356476157940235  b : 3.492547341467108 cost : 1.1207165074042997\n",
      "Train time : 3000  w : 0.5356103931015671  b : 3.4931700686873537 cost : 1.1207164121887052\n",
      "Train time : 3500  w : 0.5356034700825304  b : 3.4932858892289658 cost : 1.1207164088950088\n",
      "Train time : 4000  w : 0.5356021824757126  b : 3.4933074305996055 cost : 1.1207164087810733\n",
      "Train time : 4500  w : 0.5356019429947421  b : 3.4933114370620397 cost : 1.1207164087771324\n",
      "Train time : 5000  w : 0.5356018984538663  b : 3.4933121822208113 cost : 1.1207164087769967\n",
      "Train time : 5500  w : 0.535601890169744  b : 3.493312320812299 cost : 1.1207164087769907\n",
      "Train time : 6000  w : 0.5356018886289872  b : 3.493312346588816 cost : 1.1207164087769914\n",
      "Train time : 6500  w : 0.5356018883424228  b : 3.4933123513829707 cost : 1.1207164087769912\n",
      "Train time : 7000  w : 0.535601888289125  b : 3.4933123522746334 cost : 1.1207164087769907\n",
      "Train time : 7500  w : 0.5356018882792123  b : 3.4933123524404706 cost : 1.120716408776991\n",
      "Train time : 8000  w : 0.5356018882773685  b : 3.493312352471316 cost : 1.1207164087769912\n",
      "Train time : 8500  w : 0.5356018882770259  b : 3.493312352477051 cost : 1.120716408776991\n",
      "Train time : 9000  w : 0.5356018882769622  b : 3.4933123524781164 cost : 1.1207164087769905\n",
      "Train time : 9500  w : 0.5356018882769512  b : 3.493312352478298 cost : 1.1207164087769912\n",
      "The final line is 0.5356018882769512x + 3.493312352478298\n",
      "The final cost is 1.1207164087769912\n"
     ]
    },
    {
     "data": {
      "image/png": "[encoded data removed]",
      "text/plain": [
       "<Figure size 432x288 with 1 Axes>"
      ]
     },
     "metadata": {
      "needs_background": "light"
     },
     "output_type": "display_data"
    },
    {
     "data": {
      "image/png": "[encoded data removed]",
      "text/plain": [
       "<Figure size 864x288 with 2 Axes>"
      ]
     },
     "metadata": {
      "needs_background": "light"
     },
     "output_type": "display_data"
    }
   ],
   "source": [
    "import numpy as np\n",
    "import matplotlib.pyplot as plt\n",
    "x = np.array([1,2,4,7,10,15,16,20,25])\n",
    "y = np.array([3,4,5,8,11,10,15,13,16])\n",
    "plt.scatter(x,y,marker='x',c='b')\n",
    "# plt.show()\n",
    "\n",
    "def cost_func(w,b,x,y):\n",
    "    n = x.shape[0]\n",
    "    cost = 0\n",
    "    for i in range(n):\n",
    "        cost += (w*x[i]+b-y[i])**2\n",
    "    cost /= (2*n)\n",
    "    return cost\n",
    "\n",
    "def derivative_w(w,b,x,y):\n",
    "    n = x.shape[0]\n",
    "    val_w = 0\n",
    "    for i in range(n):\n",
    "        val_w += x[i]*(w*x[i]+b-y[i])\n",
    "    val_w /= n\n",
    "    # print(val_w)\n",
    "    return val_w\n",
    "\n",
    "def derivative_b(w,b,x,y):\n",
    "    n = x.shape[0]\n",
    "    val_b = 0\n",
    "    for i in range(n):\n",
    "        val_b += (w*x[i]+b-y[i])\n",
    "    val_b /= n\n",
    "    return val_b\n",
    "\n",
    "def change_parameter(x,y,cost_hist,w=0,b=0,lr=0.1,train_times=1000):\n",
    "    cost = cost_func(w,b,x,y)\n",
    "    for i in range(train_times):\n",
    "        der_w,der_b = derivative_w(w,b,x,y),derivative_b(w,b,x,y)\n",
    "        w = w - lr * der_w\n",
    "        b = b - lr * der_b\n",
    "        cost = cost_func(w,b,x,y)\n",
    "        cost_hist.append(cost)\n",
    "        # print(w,b)\n",
    "        # print(cost)\n",
    "        if i % 500 == 0 :\n",
    "            print(\"Train time : \"+ str(i) , \" w : \" + str(w) , \" b : \" + str(b) + \" cost : \" + str(cost))\n",
    "    return (w,b)\n",
    "\n",
    "cost_hist = []\n",
    "w,b = change_parameter(x,y,cost_hist,w=0,b=0,lr=0.01,train_times=10000)\n",
    "print(\"The final line is \" + str (w) + \"x + \" + str(b))\n",
    "cost = cost_func(w,b,x,y)\n",
    "print(\"The final cost is \" + str(cost))\n",
    "xx = np.linspace(1, 25, 50)\n",
    "yy = w*xx + b\n",
    "plt.plot(xx,yy,color='red')\n",
    "plt.show()\n",
    "\n",
    "fig, (ax1, ax2) = plt.subplots(1, 2, constrained_layout=True, figsize=(12,4))\n",
    "ax1.plot(cost_hist[:100])\n",
    "ax2.plot(1000 + np.arange(len(cost_hist[1000:])), cost_hist[1000:])\n",
    "ax1.set_title(\"Cost vs. iteration(start)\");  ax2.set_title(\"Cost vs. iteration (end)\")\n",
    "ax1.set_ylabel('Cost')            ;  ax2.set_ylabel('Cost') \n",
    "ax1.set_xlabel('iteration step')  ;  ax2.set_xlabel('iteration step') \n",
    "plt.show()\n"
   ]
  },
  {
   "attachments": {},
   "cell_type": "markdown",
   "metadata": {},
   "source": [
    "使用了简单的GD算法进行模型的训练，其中循环的终止条件有多种，这里借鉴了lab里面用循环次数作为终止条件比较好看，也绘制了cost曲线来追踪模型的训练过程。"
   ]
  },
  {
   "cell_type": "code",
   "execution_count": null,
   "metadata": {},
   "outputs": [],
   "source": [
    "import pandas as pd\n",
    "from sklearn.model_selection import train_test_split\n",
    "\n",
    "# 读取 CSV 文件\n",
    "data = pd.read_csv(\"data.csv\")\n",
    "\n",
    "# 将数据帧划分为训练集和数据集\n",
    "train_data, test_data = train_test_split(data, test_size=0.2)\n"
   ]
  },
  {
   "cell_type": "code",
   "execution_count": null,
   "metadata": {},
   "outputs": [],
   "source": []
  }
 ],
 "metadata": {
  "kernelspec": {
   "display_name": "Python 3",
   "language": "python",
   "name": "python3"
  },
  "language_info": {
   "codemirror_mode": {
    "name": "ipython",
    "version": 3
   },
   "file_extension": ".py",
   "mimetype": "text/x-python",
   "name": "python",
   "nbconvert_exporter": "python",
   "pygments_lexer": "ipython3",
   "version": "3.9.7"
  },
  "orig_nbformat": 4,
  "vscode": {
   "interpreter": {
    "hash": "11938c6bc6919ae2720b4d5011047913343b08a43b18698fd82dedb0d4417594"
   }
  }
 },
 "nbformat": 4,
 "nbformat_minor": 2
}
